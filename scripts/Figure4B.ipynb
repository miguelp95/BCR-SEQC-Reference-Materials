{
 "cells": [
  {
   "cell_type": "code",
   "execution_count": 1,
   "id": "african-andrews",
   "metadata": {
    "tags": []
   },
   "outputs": [
    {
     "name": "stdout",
     "output_type": "stream",
     "text": [
      ">> Preparing to download: 28 files \n",
      "Downloaded MiXCR_IMGT_2-D2-TKB-L2-HC_S11_L001.qc.txt to /home/miguelp95/projects/BCR-SEQC/resource_paper_figures/MiXCR_IMGT_2-D2-TKB-L2-HC_S11_L001.qc.txtDownloaded MiXCR_IMGT_2-MME-TKB-L1-HC_S2_L001.qc.txt to /home/miguelp95/projects/BCR-SEQC/resource_paper_figures/MiXCR_IMGT_2-MME-TKB-L1-HC_S2_L001.qc.txtDownloaded MiXCR_IMGT_2-PBMC-TKB-L3-HC_S15_L001.qc.txt to /home/miguelp95/projects/BCR-SEQC/resource_paper_figures/MiXCR_IMGT_2-PBMC-TKB-L3-HC_S15_L001.qc.txtDownloaded MiXCR_IMGT_2-D1-TKB-L2-HC_S10_L001.qc.txt to /home/miguelp95/projects/BCR-SEQC/resource_paper_figures/MiXCR_IMGT_2-D1-TKB-L2-HC_S10_L001.qc.txtDownloaded MiXCR_IMGT_2-PBMC-TKB-L1-HC_S1_L001.qc.txt to /home/miguelp95/projects/BCR-SEQC/resource_paper_figures/MiXCR_IMGT_2-PBMC-TKB-L1-HC_S1_L001.qc.txtDownloaded MiXCR_IMGT_2-D3-TKB-L2-HC_S12_L001.qc.txt to /home/miguelp95/projects/BCR-SEQC/resource_paper_figures/MiXCR_IMGT_2-D3-TKB-L2-HC_S12_L001.qc.txtDownloaded MiXCR_IMGT_2-D4-TKB-L3-HC_S20_L001.qc.txt to /home/miguelp95/projects/BCR-SEQC/resource_paper_figures/MiXCR_IMGT_2-D4-TKB-L3-HC_S20_L001.qc.txtDownloaded MiXCR_IMGT_2-D2-TKB-L1-HC_S4_L001.qc.txt to /home/miguelp95/projects/BCR-SEQC/resource_paper_figures/MiXCR_IMGT_2-D2-TKB-L1-HC_S4_L001.qc.txtDownloaded MiXCR_IMGT_3-D1-TKB-L1-HC_S45_L001.qc.txt to /home/miguelp95/projects/BCR-SEQC/resource_paper_figures/MiXCR_IMGT_3-D1-TKB-L1-HC_S45_L001.qc.txtDownloaded MiXCR_IMGT_2-D5-TKB-L2-HC_S14_L001.qc.txt to /home/miguelp95/projects/BCR-SEQC/resource_paper_figures/MiXCR_IMGT_2-D5-TKB-L2-HC_S14_L001.qc.txtDownloaded MiXCR_IMGT_2-D3-TKB-L3-HC_S19_L001.qc.txt to /home/miguelp95/projects/BCR-SEQC/resource_paper_figures/MiXCR_IMGT_2-D3-TKB-L3-HC_S19_L001.qc.txtDownloaded MiXCR_IMGT_3-D4-TKB-L1-HC_S48_L001.qc.txt to /home/miguelp95/projects/BCR-SEQC/resource_paper_figures/MiXCR_IMGT_3-D4-TKB-L1-HC_S48_L001.qc.txtDownloaded MiXCR_IMGT_2-D3-TKB-L1-HC_S5_L001.qc.txt to /home/miguelp95/projects/BCR-SEQC/resource_paper_figures/MiXCR_IMGT_2-D3-TKB-L1-HC_S5_L001.qc.txtDownloaded MiXCR_IMGT_2-D4-TKB-L2-HC_S13_L001.qc.txt to /home/miguelp95/projects/BCR-SEQC/resource_paper_figures/MiXCR_IMGT_2-D4-TKB-L2-HC_S13_L001.qc.txtDownloaded MiXCR_IMGT_2-D5-TKB-L3-HC_S21_L001.qc.txt to /home/miguelp95/projects/BCR-SEQC/resource_paper_figures/MiXCR_IMGT_2-D5-TKB-L3-HC_S21_L001.qc.txtDownloaded MiXCR_IMGT_2-D1-TKB-L3-HC_S17_L001.qc.txt to /home/miguelp95/projects/BCR-SEQC/resource_paper_figures/MiXCR_IMGT_2-D1-TKB-L3-HC_S17_L001.qc.txtDownloaded MiXCR_IMGT_3-D5-TKB-L1-HC_S49_L001.qc.txt to /home/miguelp95/projects/BCR-SEQC/resource_paper_figures/MiXCR_IMGT_3-D5-TKB-L1-HC_S49_L001.qc.txtDownloaded MiXCR_IMGT_2-PBMC-TKB-L2-HC_S8_L001.qc.txt to /home/miguelp95/projects/BCR-SEQC/resource_paper_figures/MiXCR_IMGT_2-PBMC-TKB-L2-HC_S8_L001.qc.txtDownloaded MiXCR_IMGT_2-D2-TKB-L3-HC_S18_L001.qc.txt to /home/miguelp95/projects/BCR-SEQC/resource_paper_figures/MiXCR_IMGT_2-D2-TKB-L3-HC_S18_L001.qc.txtDownloaded MiXCR_IMGT_3-PBMC-TKB-L1-HC_S43_L001.qc.txt to /home/miguelp95/projects/BCR-SEQC/resource_paper_figures/MiXCR_IMGT_3-PBMC-TKB-L1-HC_S43_L001.qc.txtDownloaded MiXCR_IMGT_2-D5-TKB-L1-HC_S7_L001.qc.txt to /home/miguelp95/projects/BCR-SEQC/resource_paper_figures/MiXCR_IMGT_2-D5-TKB-L1-HC_S7_L001.qc.txtDownloaded MiXCR_IMGT_2-MME-TKB-L3-HC_S16_L001.qc.txt to /home/miguelp95/projects/BCR-SEQC/resource_paper_figures/MiXCR_IMGT_2-MME-TKB-L3-HC_S16_L001.qc.txtDownloaded MiXCR_IMGT_3-D2-TKB-L1-HC_S46_L001.qc.txt to /home/miguelp95/projects/BCR-SEQC/resource_paper_figures/MiXCR_IMGT_3-D2-TKB-L1-HC_S46_L001.qc.txtDownloaded MiXCR_IMGT_3-MMC-TKB-L1-HC_S44_L001.qc.txt to /home/miguelp95/projects/BCR-SEQC/resource_paper_figures/MiXCR_IMGT_3-MMC-TKB-L1-HC_S44_L001.qc.txtDownloaded MiXCR_IMGT_2-MME-TKB-L2-HC_S9_L001.qc.txt to /home/miguelp95/projects/BCR-SEQC/resource_paper_figures/MiXCR_IMGT_2-MME-TKB-L2-HC_S9_L001.qc.txtDownloaded MiXCR_IMGT_3-D3-TKB-L1-HC_S47_L001.qc.txt to /home/miguelp95/projects/BCR-SEQC/resource_paper_figures/MiXCR_IMGT_3-D3-TKB-L1-HC_S47_L001.qc.txtDownloaded MiXCR_IMGT_2-D4-TKB-L1-HC_S6_L001.qc.txt to /home/miguelp95/projects/BCR-SEQC/resource_paper_figures/MiXCR_IMGT_2-D4-TKB-L1-HC_S6_L001.qc.txtDownloaded MiXCR_IMGT_2-D1-TKB-L1-HC_S3_L001.qc.txt to /home/miguelp95/projects/BCR-SEQC/resource_paper_figures/MiXCR_IMGT_2-D1-TKB-L1-HC_S3_L001.qc.txt"
     ]
    }
   ],
   "source": [
    "!pfda download -space-id 216 -folder-id 8491923"
   ]
  },
  {
   "cell_type": "code",
   "execution_count": 2,
   "id": "4563d730-00db-4ede-bd1b-5235ad42c0d2",
   "metadata": {
    "tags": []
   },
   "outputs": [
    {
     "name": "stdout",
     "output_type": "stream",
     "text": [
      ">> Preparing to download: 28 files \n",
      "Downloaded MiXCR_IMGT_Exp3-RNA-D1-TKB-L1-NextSeq2k-Heavy-Chain.qc.txt to /home/miguelp95/projects/BCR-SEQC/resource_paper_figures/MiXCR_IMGT_Exp3-RNA-D1-TKB-L1-NextSeq2k-Heavy-Chain.qc.txtDownloaded MiXCR_IMGT_Exp2-RNA-D2-TKB-L1-NextSeq2k-Heavy-Chain.qc.txt to /home/miguelp95/projects/BCR-SEQC/resource_paper_figures/MiXCR_IMGT_Exp2-RNA-D2-TKB-L1-NextSeq2k-Heavy-Chain.qc.txtDownloaded MiXCR_IMGT_Exp2-RNA-D5-TKB-L2-NextSeq2k-Heavy-Chain.qc.txt to /home/miguelp95/projects/BCR-SEQC/resource_paper_figures/MiXCR_IMGT_Exp2-RNA-D5-TKB-L2-NextSeq2k-Heavy-Chain.qc.txtDownloaded MiXCR_IMGT_Exp2-RNA-PBMC-TKB-L1-NextSeq2k-Heavy-Chain.qc.txt to /home/miguelp95/projects/BCR-SEQC/resource_paper_figures/MiXCR_IMGT_Exp2-RNA-PBMC-TKB-L1-NextSeq2k-Heavy-Chain.qc.txtDownloaded MiXCR_IMGT_Exp2-RNA-D2-TKB-L3-NextSeq2k-Heavy-Chain.qc.txt to /home/miguelp95/projects/BCR-SEQC/resource_paper_figures/MiXCR_IMGT_Exp2-RNA-D2-TKB-L3-NextSeq2k-Heavy-Chain.qc.txtDownloaded MiXCR_IMGT_Exp3-RNA-D2-TKB-L1-NextSeq2k-Heavy-Chain.qc.txt to /home/miguelp95/projects/BCR-SEQC/resource_paper_figures/MiXCR_IMGT_Exp3-RNA-D2-TKB-L1-NextSeq2k-Heavy-Chain.qc.txtDownloaded MiXCR_IMGT_Exp2-RNA-D5-TKB-L1-NextSeq2k-Heavy-Chain.qc.txt to /home/miguelp95/projects/BCR-SEQC/resource_paper_figures/MiXCR_IMGT_Exp2-RNA-D5-TKB-L1-NextSeq2k-Heavy-Chain.qc.txtDownloaded MiXCR_IMGT_Exp2-RNA-D4-TKB-L3-NextSeq2k-Heavy-Chain.qc.txt to /home/miguelp95/projects/BCR-SEQC/resource_paper_figures/MiXCR_IMGT_Exp2-RNA-D4-TKB-L3-NextSeq2k-Heavy-Chain.qc.txtDownloaded MiXCR_IMGT_Exp2-RNA-D1-TKB-L1-NextSeq2k-Heavy-Chain.qc.txt to /home/miguelp95/projects/BCR-SEQC/resource_paper_figures/MiXCR_IMGT_Exp2-RNA-D1-TKB-L1-NextSeq2k-Heavy-Chain.qc.txtDownloaded MiXCR_IMGT_Exp2-RNA-D3-TKB-L1-NextSeq2k-Heavy-Chain.qc.txt to /home/miguelp95/projects/BCR-SEQC/resource_paper_figures/MiXCR_IMGT_Exp2-RNA-D3-TKB-L1-NextSeq2k-Heavy-Chain.qc.txtDownloaded MiXCR_IMGT_Exp2-RNA-D4-TKB-L1-NextSeq2k-Heavy-Chain.qc.txt to /home/miguelp95/projects/BCR-SEQC/resource_paper_figures/MiXCR_IMGT_Exp2-RNA-D4-TKB-L1-NextSeq2k-Heavy-Chain.qc.txtDownloaded MiXCR_IMGT_Exp2-RNA-D5-TKB-L3-NextSeq2k-Heavy-Chain.qc.txt to /home/miguelp95/projects/BCR-SEQC/resource_paper_figures/MiXCR_IMGT_Exp2-RNA-D5-TKB-L3-NextSeq2k-Heavy-Chain.qc.txtDownloaded MiXCR_IMGT_Exp2-RNA-D2-TKB-L2-NextSeq2k-Heavy-Chain.qc.txt to /home/miguelp95/projects/BCR-SEQC/resource_paper_figures/MiXCR_IMGT_Exp2-RNA-D2-TKB-L2-NextSeq2k-Heavy-Chain.qc.txtDownloaded MiXCR_IMGT_Exp2-RNA-MME-TKB-L1-NextSeq2k-Heavy-Chain.qc.txt to /home/miguelp95/projects/BCR-SEQC/resource_paper_figures/MiXCR_IMGT_Exp2-RNA-MME-TKB-L1-NextSeq2k-Heavy-Chain.qc.txtDownloaded MiXCR_IMGT_Exp2-RNA-PBMC-TKB-L2-NextSeq2k-Heavy-Chain.qc.txt to /home/miguelp95/projects/BCR-SEQC/resource_paper_figures/MiXCR_IMGT_Exp2-RNA-PBMC-TKB-L2-NextSeq2k-Heavy-Chain.qc.txtDownloaded MiXCR_IMGT_Exp3-RNA-D4-TKB-L1-NextSeq2k-Heavy-Chain.qc.txt to /home/miguelp95/projects/BCR-SEQC/resource_paper_figures/MiXCR_IMGT_Exp3-RNA-D4-TKB-L1-NextSeq2k-Heavy-Chain.qc.txtDownloaded MiXCR_IMGT_Exp2-RNA-D1-TKB-L3-NextSeq2k-Heavy-Chain.qc.txt to /home/miguelp95/projects/BCR-SEQC/resource_paper_figures/MiXCR_IMGT_Exp2-RNA-D1-TKB-L3-NextSeq2k-Heavy-Chain.qc.txtDownloaded MiXCR_IMGT_Exp2-RNA-MME-TKB-L2-NextSeq2k-Heavy-Chain.qc.txt to /home/miguelp95/projects/BCR-SEQC/resource_paper_figures/MiXCR_IMGT_Exp2-RNA-MME-TKB-L2-NextSeq2k-Heavy-Chain.qc.txtDownloaded MiXCR_IMGT_Exp2-RNA-D4-TKB-L2-NextSeq2k-Heavy-Chain.qc.txt to /home/miguelp95/projects/BCR-SEQC/resource_paper_figures/MiXCR_IMGT_Exp2-RNA-D4-TKB-L2-NextSeq2k-Heavy-Chain.qc.txtDownloaded MiXCR_IMGT_Exp2-RNA-D1-TKB-L2-NextSeq2k-Heavy-Chain.qc.txt to /home/miguelp95/projects/BCR-SEQC/resource_paper_figures/MiXCR_IMGT_Exp2-RNA-D1-TKB-L2-NextSeq2k-Heavy-Chain.qc.txtDownloaded MiXCR_IMGT_Exp3-RNA-D5-TKB-L1-NextSeq2k-Heavy-Chain.qc.txt to /home/miguelp95/projects/BCR-SEQC/resource_paper_figures/MiXCR_IMGT_Exp3-RNA-D5-TKB-L1-NextSeq2k-Heavy-Chain.qc.txtDownloaded MiXCR_IMGT_Exp2-RNA-MME-TKB-L3-NextSeq2k-Heavy-Chain.qc.txt to /home/miguelp95/projects/BCR-SEQC/resource_paper_figures/MiXCR_IMGT_Exp2-RNA-MME-TKB-L3-NextSeq2k-Heavy-Chain.qc.txtDownloaded MiXCR_IMGT_Exp2-RNA-D3-TKB-L3-NextSeq2k-Heavy-Chain.qc.txt to /home/miguelp95/projects/BCR-SEQC/resource_paper_figures/MiXCR_IMGT_Exp2-RNA-D3-TKB-L3-NextSeq2k-Heavy-Chain.qc.txtDownloaded MiXCR_IMGT_Exp3-RNA-PBMC-TKB-L1-NextSeq2k-Heavy-Chain.qc.txt to /home/miguelp95/projects/BCR-SEQC/resource_paper_figures/MiXCR_IMGT_Exp3-RNA-PBMC-TKB-L1-NextSeq2k-Heavy-Chain.qc.txtDownloaded MiXCR_IMGT_Exp3-RNA-D3-TKB-L1-NextSeq2k-Heavy-Chain.qc.txt to /home/miguelp95/projects/BCR-SEQC/resource_paper_figures/MiXCR_IMGT_Exp3-RNA-D3-TKB-L1-NextSeq2k-Heavy-Chain.qc.txtDownloaded MiXCR_IMGT_Exp2-RNA-D3-TKB-L2-NextSeq2k-Heavy-Chain.qc.txt to /home/miguelp95/projects/BCR-SEQC/resource_paper_figures/MiXCR_IMGT_Exp2-RNA-D3-TKB-L2-NextSeq2k-Heavy-Chain.qc.txtDownloaded MiXCR_IMGT_Exp2-RNA-PBMC-TKB-L3-NextSeq2k-Heavy-Chain.qc.txt to /home/miguelp95/projects/BCR-SEQC/resource_paper_figures/MiXCR_IMGT_Exp2-RNA-PBMC-TKB-L3-NextSeq2k-Heavy-Chain.qc.txtDownloaded MiXCR_IMGT_Exp3-RNA-MMC-TKB-L1-NextSeq2k-Heavy-Chain.qc.txt to /home/miguelp95/projects/BCR-SEQC/resource_paper_figures/MiXCR_IMGT_Exp3-RNA-MMC-TKB-L1-NextSeq2k-Heavy-Chain.qc.txt"
     ]
    }
   ],
   "source": [
    "!pfda download -space-id 216 -folder-id 8491924\n"
   ]
  },
  {
   "cell_type": "code",
   "execution_count": 3,
   "id": "a034a0a1-9aa3-44d2-9f0f-87091bb6f984",
   "metadata": {
    "tags": []
   },
   "outputs": [
    {
     "name": "stdout",
     "output_type": "stream",
     "text": [
      ">> Preparing to download: 28 files \n",
      "Downloaded MiXCR_IMGT_2-RNA-D4-TKB-L3-HC.qc.txt to /home/miguelp95/projects/BCR-SEQC/resource_paper_figures/MiXCR_IMGT_2-RNA-D4-TKB-L3-HC.qc.txtDownloaded MiXCR_IMGT_2-RNA-D3-TKB-L2-HC.qc.txt to /home/miguelp95/projects/BCR-SEQC/resource_paper_figures/MiXCR_IMGT_2-RNA-D3-TKB-L2-HC.qc.txtDownloaded MiXCR_IMGT_2-RNA-D2-TKB-L2-HC.qc.txt to /home/miguelp95/projects/BCR-SEQC/resource_paper_figures/MiXCR_IMGT_2-RNA-D2-TKB-L2-HC.qc.txtDownloaded MiXCR_IMGT_2-RNA-PBMC-TKB-L3-HC.qc.txt to /home/miguelp95/projects/BCR-SEQC/resource_paper_figures/MiXCR_IMGT_2-RNA-PBMC-TKB-L3-HC.qc.txtDownloaded MiXCR_IMGT_2-RNA-D5-TKB-L2-HC.qc.txt to /home/miguelp95/projects/BCR-SEQC/resource_paper_figures/MiXCR_IMGT_2-RNA-D5-TKB-L2-HC.qc.txtDownloaded MiXCR_IMGT_2-RNA-D5-TKB-L3-HC.qc.txt to /home/miguelp95/projects/BCR-SEQC/resource_paper_figures/MiXCR_IMGT_2-RNA-D5-TKB-L3-HC.qc.txtDownloaded MiXCR_IMGT_2-RNA-D4-TKB-L2-HC.qc.txt to /home/miguelp95/projects/BCR-SEQC/resource_paper_figures/MiXCR_IMGT_2-RNA-D4-TKB-L2-HC.qc.txtDownloaded MiXCR_IMGT_2-RNA-MME-TKB-L1-HC.qc.txt to /home/miguelp95/projects/BCR-SEQC/resource_paper_figures/MiXCR_IMGT_2-RNA-MME-TKB-L1-HC.qc.txtDownloaded MiXCR_IMGT_3-RNA-D2-TKB-L1-HC.qc.txt to /home/miguelp95/projects/BCR-SEQC/resource_paper_figures/MiXCR_IMGT_3-RNA-D2-TKB-L1-HC.qc.txtDownloaded MiXCR_IMGT_3-RNA-D3-TKB-L1-HC.qc.txt to /home/miguelp95/projects/BCR-SEQC/resource_paper_figures/MiXCR_IMGT_3-RNA-D3-TKB-L1-HC.qc.txtDownloaded MiXCR_IMGT_2-RNA-D2-TKB-L1-HC.qc.txt to /home/miguelp95/projects/BCR-SEQC/resource_paper_figures/MiXCR_IMGT_2-RNA-D2-TKB-L1-HC.qc.txtDownloaded MiXCR_IMGT_2-RNA-MME-TKB-L2-HC.qc.txt to /home/miguelp95/projects/BCR-SEQC/resource_paper_figures/MiXCR_IMGT_2-RNA-MME-TKB-L2-HC.qc.txtDownloaded MiXCR_IMGT_2-RNA-D3-TKB-L1-HC.qc.txt to /home/miguelp95/projects/BCR-SEQC/resource_paper_figures/MiXCR_IMGT_2-RNA-D3-TKB-L1-HC.qc.txtDownloaded MiXCR_IMGT_2-RNA-PBMC-TKB-L2-HC.qc.txt to /home/miguelp95/projects/BCR-SEQC/resource_paper_figures/MiXCR_IMGT_2-RNA-PBMC-TKB-L2-HC.qc.txtDownloaded MiXCR_IMGT_2-RNA-D4-TKB-L1-HC.qc.txt to /home/miguelp95/projects/BCR-SEQC/resource_paper_figures/MiXCR_IMGT_2-RNA-D4-TKB-L1-HC.qc.txtDownloaded MiXCR_IMGT_2-RNA-MME-TKB-L3-HC.qc.txt to /home/miguelp95/projects/BCR-SEQC/resource_paper_figures/MiXCR_IMGT_2-RNA-MME-TKB-L3-HC.qc.txtDownloaded MiXCR_IMGT_3-RNA-D4-TKB-L1-HC.qc.txt to /home/miguelp95/projects/BCR-SEQC/resource_paper_figures/MiXCR_IMGT_3-RNA-D4-TKB-L1-HC.qc.txtDownloaded MiXCR_IMGT_2-RNA-D1-TKB-L2-HC.qc.txt to /home/miguelp95/projects/BCR-SEQC/resource_paper_figures/MiXCR_IMGT_2-RNA-D1-TKB-L2-HC.qc.txtDownloaded MiXCR_IMGT_2-RNA-D3-TKB-L3-HC.qc.txt to /home/miguelp95/projects/BCR-SEQC/resource_paper_figures/MiXCR_IMGT_2-RNA-D3-TKB-L3-HC.qc.txtDownloaded MiXCR_IMGT_2-RNA-PBMC-TKB-L1-HC.qc.txt to /home/miguelp95/projects/BCR-SEQC/resource_paper_figures/MiXCR_IMGT_2-RNA-PBMC-TKB-L1-HC.qc.txtDownloaded MiXCR_IMGT_2-RNA-D5-TKB-L1-HC.qc.txt to /home/miguelp95/projects/BCR-SEQC/resource_paper_figures/MiXCR_IMGT_2-RNA-D5-TKB-L1-HC.qc.txtDownloaded MiXCR_IMGT_3-RNA-D5-TKB-L1-HC.qc.txt to /home/miguelp95/projects/BCR-SEQC/resource_paper_figures/MiXCR_IMGT_3-RNA-D5-TKB-L1-HC.qc.txtDownloaded MiXCR_IMGT_2-RNA-D1-TKB-L1-HC.qc.txt to /home/miguelp95/projects/BCR-SEQC/resource_paper_figures/MiXCR_IMGT_2-RNA-D1-TKB-L1-HC.qc.txtDownloaded MiXCR_IMGT_3-RNA-MMC-TKB-L1-HC.qc.txt to /home/miguelp95/projects/BCR-SEQC/resource_paper_figures/MiXCR_IMGT_3-RNA-MMC-TKB-L1-HC.qc.txtDownloaded MiXCR_IMGT_3-RNA-D1-TKB-L1-HC.qc.txt to /home/miguelp95/projects/BCR-SEQC/resource_paper_figures/MiXCR_IMGT_3-RNA-D1-TKB-L1-HC.qc.txtDownloaded MiXCR_IMGT_2-RNA-D2-TKB-L3-HC.qc.txt to /home/miguelp95/projects/BCR-SEQC/resource_paper_figures/MiXCR_IMGT_2-RNA-D2-TKB-L3-HC.qc.txtDownloaded MiXCR_IMGT_2-RNA-D1-TKB-L3-HC.qc.txt to /home/miguelp95/projects/BCR-SEQC/resource_paper_figures/MiXCR_IMGT_2-RNA-D1-TKB-L3-HC.qc.txtDownloaded MiXCR_IMGT_3-RNA-PBMC-TKB-L1-HC.qc.txt to /home/miguelp95/projects/BCR-SEQC/resource_paper_figures/MiXCR_IMGT_3-RNA-PBMC-TKB-L1-HC.qc.txt"
     ]
    }
   ],
   "source": [
    "!pfda download -space-id 216 -folder-id 8491925"
   ]
  },
  {
   "cell_type": "code",
   "execution_count": 4,
   "id": "composed-editing",
   "metadata": {
    "tags": []
   },
   "outputs": [
    {
     "name": "stdout",
     "output_type": "stream",
     "text": [
      "Defaulting to user installation because normal site-packages is not writeable\n",
      "Collecting openpyxl\n",
      "  Downloading openpyxl-3.1.5-py2.py3-none-any.whl (250 kB)\n",
      "\u001b[2K     \u001b[90m━━━━━━━━━━━━━━━━━━━━━━━━━━━━━━━━━━━━━━━\u001b[0m \u001b[32m250.9/250.9 KB\u001b[0m \u001b[31m1.6 MB/s\u001b[0m eta \u001b[36m0:00:00\u001b[0ma \u001b[36m0:00:01\u001b[0m\n",
      "\u001b[?25hCollecting et-xmlfile\n",
      "  Downloading et_xmlfile-2.0.0-py3-none-any.whl (18 kB)\n",
      "Installing collected packages: et-xmlfile, openpyxl\n",
      "Successfully installed et-xmlfile-2.0.0 openpyxl-3.1.5\n"
     ]
    }
   ],
   "source": [
    "!pip install openpyxl"
   ]
  },
  {
   "cell_type": "code",
   "execution_count": 5,
   "id": "hazardous-benjamin",
   "metadata": {
    "tags": []
   },
   "outputs": [
    {
     "name": "stdout",
     "output_type": "stream",
     "text": [
      "num of tables in gen1:  28\n",
      "num of tables in miseq:  28\n",
      "num of tables in gen2 (left):  28\n"
     ]
    }
   ],
   "source": [
    "import pandas as pd\n",
    "import os\n",
    "import re\n",
    "import openpyxl\n",
    "\n",
    "files = [f for f in os.listdir() if f.endswith('qc.txt')]\n",
    "dfs = {}\n",
    "for file in files:\n",
    "    with open(file, 'r') as f:\n",
    "        lines = f.readlines()[1:]  \n",
    "\n",
    "    data = []\n",
    "    for line in lines:\n",
    "        parts = line.split(':')\n",
    "        string = parts[0].strip()\n",
    "        number = parts[1].split('%')[0].strip()\n",
    "        data.append([string, number])\n",
    "\n",
    "    df = pd.DataFrame(data, columns=['qc', 'percentage'])\n",
    "    df_name = file.replace('MiXCR_IMGT_', '').replace('.qc.txt', '')\n",
    "    dfs[df_name] = df\n",
    "\n",
    "gen1 = {k: dfs.pop(k) for k in list(dfs.keys()) if k.startswith('Exp')}\n",
    "miseq = {k: dfs.pop(k) for k in list(dfs.keys()) if k.endswith('L001')}\n",
    "gen2=dfs\n",
    "print('num of tables in gen1: ',len(gen1.keys()))\n",
    "print('num of tables in miseq: ',len(miseq.keys()))\n",
    "print('num of tables in gen2 (left): ',len(gen2.keys()))\n",
    "\n",
    "###section below: remove '_S*_L001' in all key names in miseq\n",
    "new_dict_miseq = {}\n",
    "for key, value in miseq.items():\n",
    "    # key ends with '_S*_L001', remove it\n",
    "    new_key = re.sub(r'_S\\d+_L001$', '', key)\n",
    "    new_dict_miseq[new_key] = value\n",
    "miseq = new_dict_miseq\n",
    "\n",
    "# types of value in percentage column in all dicts' dfs are 'str', convert to numeric\n",
    "list_of_dicts = [miseq, gen1, gen2]\n",
    "\n",
    "for dict_of_dfs in list_of_dicts:\n",
    "    for key in dict_of_dfs:\n",
    "        dict_of_dfs[key]['percentage'] = pd.to_numeric(dict_of_dfs[key]['percentage'])\n",
    "#gen1['Exp2-RNA-PBMC-TKB-L1-NextSeq2k-Heavy-Chain']['percentage'].apply(type)\n",
    "\n",
    "for dict in list_of_dicts:\n",
    "    for key in dict:\n",
    "        dict[key].set_index(dict[key].columns[0], inplace=True)\n",
    "\n",
    "\n",
    "def create_df_all(dict_input):\n",
    "    all_df = pd.DataFrame()\n",
    "    for key, df in dict_input.items():\n",
    "        all_df[key] = df['percentage']\n",
    "    return all_df.sort_index(axis=1).transpose()\n",
    "\n",
    "all_miseq = create_df_all(miseq)\n",
    "all_gen1 = create_df_all(gen1)\n",
    "all_gen2 = create_df_all(gen2)\n",
    "\n",
    "\n"
   ]
  },
  {
   "cell_type": "code",
   "execution_count": 6,
   "id": "7b434a79-a7b8-419b-aefb-a7e73b30baa4",
   "metadata": {
    "tags": []
   },
   "outputs": [],
   "source": [
    "columns_to_extract = [\n",
    "    'Off target (non TCR/IG) reads'\n",
    "]\n",
    "\n",
    "miseq_qc_df = all_miseq[columns_to_extract]\n",
    "nextseq_qc_df = all_gen1[columns_to_extract]\n",
    "xleap_qc_df = all_gen2[columns_to_extract]\n",
    "\n",
    "def calculate_means(df):\n",
    "    mme_df = df.iloc[:21]\n",
    "    mmc_df = df.iloc[-7:]\n",
    "    mme_means = mme_df.mean()\n",
    "    mmc_means = mmc_df.mean()\n",
    "    return mme_means, mmc_means\n",
    "\n",
    "miseq_mme_means, miseq_mmc_means = calculate_means(miseq_qc_df)\n",
    "nextseq_mme_means, nextseq_mmc_means = calculate_means(nextseq_qc_df)\n",
    "xleap_mme_means, xleap_mmc_means = calculate_means(xleap_qc_df)\n",
    "\n",
    "mme_means = pd.DataFrame({\n",
    "    'MiSeq': miseq_mme_means,\n",
    "    'NextSeq': nextseq_mme_means,\n",
    "    'Xleap': xleap_mme_means\n",
    "})\n",
    "\n",
    "mmc_means = pd.DataFrame({\n",
    "    'MiSeq': miseq_mmc_means,\n",
    "    'NextSeq': nextseq_mmc_means,\n",
    "    'Xleap': xleap_mmc_means\n",
    "})\n",
    "\n",
    "mme_means = mme_means.rename(index={\n",
    "    'Off target (non TCR/IG) reads': 'Off target'\n",
    "})\n",
    "\n",
    "mmc_means = mmc_means.rename(index={\n",
    "    'Off target (non TCR/IG) reads': 'Off target'\n",
    "})\n"
   ]
  },
  {
   "cell_type": "code",
   "execution_count": 8,
   "id": "satisfactory-making",
   "metadata": {
    "tags": []
   },
   "outputs": [
    {
     "data": {
      "image/png": "[encoded data removed]",
      "text/plain": [
       "<Figure size 640x640 with 1 Axes>"
      ]
     },
     "metadata": {},
     "output_type": "display_data"
    }
   ],
   "source": [
    "import pandas as pd\n",
    "import matplotlib.pyplot as plt\n",
    "\n",
    "colors = ['#C20078']\n",
    "\n",
    "fig, ax = plt.subplots(figsize=(6.4,6.4))\n",
    "\n",
    "mme_positions = list(range(len(mme_means.columns)))\n",
    "mmc_positions = [pos + len(mme_means.columns) + 1 for pos in range(len(mmc_means.columns))]\n",
    "\n",
    "bottom_mme = [0] * len(mme_means.columns)\n",
    "for i, row in enumerate(mme_means.index):\n",
    "    bars = ax.bar(mme_positions, mme_means.loc[row], bottom=bottom_mme, color=colors[i], label=row)\n",
    "    for bar in bars:\n",
    "        bar.set_edgecolor('none') \n",
    "    bottom_mme = [bottom_mme[j] + mme_means.loc[row, col] for j, col in enumerate(mme_means.columns)]\n",
    "\n",
    "bottom_mmc = [0] * len(mmc_means.columns)\n",
    "for i, row in enumerate(mmc_means.index):\n",
    "    bars = ax.bar(mmc_positions, mmc_means.loc[row], bottom=bottom_mmc, color=colors[i])\n",
    "    for bar in bars:\n",
    "        bar.set_edgecolor('none')  \n",
    "    bottom_mmc = [bottom_mmc[j] + mmc_means.loc[row, col] for j, col in enumerate(mmc_means.columns)]\n",
    "\n",
    "handles, labels = ax.get_legend_handles_labels()\n",
    "unique_labels = []\n",
    "unique_handles = []\n",
    "for handle, label in zip(handles, labels):\n",
    "    if label not in unique_labels:\n",
    "        unique_labels.append(label)\n",
    "        unique_handles.append(handle)\n",
    "ax.legend(unique_handles, unique_labels, loc='upper center', bbox_to_anchor=(0.5, -0.3),ncol=4, fontsize=10, handletextpad=0.2, markerscale=0.5, handleheight=1, handlelength=1, labelspacing=0.2)\n",
    "\n",
    "ax.set_ylabel('% aligned reads', fontsize=14)\n",
    "# ax.set_title('B. Off-target rate (averages)')\n",
    "plt.xticks(ticks=mme_positions + mmc_positions, labels=mme_means.columns.tolist() + mmc_means.columns.tolist(), rotation=90, fontsize=12)\n",
    "plt.yticks(fontsize=12)\n",
    "plt.text(len(mme_means.columns) / 2 - 0.5, -max(bottom_mme + bottom_mmc) * 0.25, 'MME', ha='center', va='center', fontsize=14)\n",
    "plt.text(len(mme_means.columns) + len(mmc_means.columns) / 2 + 0.5, -max(bottom_mme + bottom_mmc) * 0.25, 'MMC', ha='center', va='center', fontsize=14)\n",
    "\n",
    "plt.tight_layout()\n",
    "\n",
    "\n",
    "ax.spines['top'].set_visible(False)\n",
    "ax.spines['right'].set_visible(False)\n",
    "ax.spines['left'].set_visible(False)\n",
    "ax.spines['bottom'].set_visible(False)\n",
    "ax.tick_params(axis='x', which='both', bottom=False, top=False, labelbottom=True)\n",
    "ax.tick_params(axis='y', which='both', left=False, right=False, labelbottom=True)\n",
    "\n",
    "plt.tight_layout()\n",
    "plt.savefig('Figure4B.svg')\n",
    "plt.show()\n"
   ]
  },
  {
   "cell_type": "code",
   "execution_count": 8,
   "id": "d4f55ab5-67b1-4afd-98ec-45542b130b5a",
   "metadata": {
    "tags": []
   },
   "outputs": [
    {
     "name": "stdout",
     "output_type": "stream",
     "text": [
      ">> Uploading file Figure4B.tiff\n",
      "     100.0% (2.442MiB / 2.442MiB)\n",
      ">> Finalizing file...\n",
      ">> Uploaded:  Figure4B.tiff\n",
      ">> Done! Access your file at https://precision.fda.gov/spaces/216/files/file-Gqxf4xQ07qQkqf2F1vg6V004-1\n",
      ">> Uploading file qc_txt_figure4b.xlsx\n",
      "     100.0% (15.98KiB / 15.98KiB)\n",
      ">> Finalizing file...\n",
      ">> Uploaded:  qc_txt_figure4b.xlsx\n",
      ">> Done! Access your file at https://precision.fda.gov/spaces/216/files/file-Gqxf4xj07qQf6x2vqXX3QYx8-1\n"
     ]
    }
   ],
   "source": [
    "with pd.ExcelWriter('qc_txt_figure4b.xlsx') as writer:  \n",
    "    all_miseq.to_excel(writer, sheet_name='MiSeq')\n",
    "    all_gen1.to_excel(writer, sheet_name='NextSeq')\n",
    "    all_gen2.to_excel(writer, sheet_name='Xleap')\n",
    "    \n",
    "!pfda upload-file Figure4B.tiff -space-id 216 -folder-id 8491914\n",
    "!pfda upload-file qc_txt_figure4b.xlsx -space-id 216 -folder-id 8491914\n",
    "\n"
   ]
  },
  {
   "cell_type": "code",
   "execution_count": null,
   "id": "382a0f4c-007b-4160-828f-6a4d5823a673",
   "metadata": {},
   "outputs": [],
   "source": []
  }
 ],
 "metadata": {
  "kernelspec": {
   "display_name": "Python 3 (ipykernel)",
   "language": "python",
   "name": "python3"
  },
  "language_info": {
   "codemirror_mode": {
    "name": "ipython",
    "version": 3
   },
   "file_extension": ".py",
   "mimetype": "text/x-python",
   "name": "python",
   "nbconvert_exporter": "python",
   "pygments_lexer": "ipython3",
   "version": "3.10.12"
  }
 },
 "nbformat": 4,
 "nbformat_minor": 5
}
